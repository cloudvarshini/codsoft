{
 "cells": [
  {
   "cell_type": "markdown",
   "id": "3e6eb237",
   "metadata": {},
   "source": [
    "### Megavarshini\n",
    "# PASSWORD GENERATOR\n",
    "## Task 3"
   ]
  },
  {
   "cell_type": "code",
   "execution_count": 10,
   "id": "f6e7c732",
   "metadata": {},
   "outputs": [],
   "source": [
    "import random\n",
    "elements = \"ABCDEFGHIJKLMNOPQRSTUVWXYZabcdefghijklmnopqrstuvwxyz0123456789~!@#$%^&*()_+`-=[]{}\\|'?><,.\""
   ]
  },
  {
   "cell_type": "code",
   "execution_count": 11,
   "id": "e59d7756",
   "metadata": {},
   "outputs": [
    {
     "name": "stdout",
     "output_type": "stream",
     "text": [
      "12\n"
     ]
    }
   ],
   "source": [
    "length = int(input())"
   ]
  },
  {
   "cell_type": "code",
   "execution_count": 12,
   "id": "9faa1910",
   "metadata": {},
   "outputs": [
    {
     "name": "stdout",
     "output_type": "stream",
     "text": [
      "[ = m N d @ o $ j Y K ,\n"
     ]
    }
   ],
   "source": [
    "password = \" \".join(random.sample(elements,length))\n",
    "print(password)"
   ]
  }
 ],
 "metadata": {
  "kernelspec": {
   "display_name": "Python 3 (ipykernel)",
   "language": "python",
   "name": "python3"
  },
  "language_info": {
   "codemirror_mode": {
    "name": "ipython",
    "version": 3
   },
   "file_extension": ".py",
   "mimetype": "text/x-python",
   "name": "python",
   "nbconvert_exporter": "python",
   "pygments_lexer": "ipython3",
   "version": "3.10.12"
  }
 },
 "nbformat": 4,
 "nbformat_minor": 5
}
